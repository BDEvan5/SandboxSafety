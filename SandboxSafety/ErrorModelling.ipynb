{
 "cells": [
  {
   "cell_type": "code",
   "execution_count": 15,
   "metadata": {},
   "outputs": [],
   "source": [
    "import numpy as np\n",
    "from SandboxSafety.Simulator.Dynamics import update_complex_state\n",
    "from SandboxSafety.Utils import load_conf\n",
    "from SandboxSafety.Modes import Modes\n"
   ]
  },
  {
   "cell_type": "code",
   "execution_count": 16,
   "metadata": {},
   "outputs": [
    {
     "name": "stdout",
     "output_type": "stream",
     "text": [
      "Limits: b: 0.0125, p: 0.078525, v: 0.4, s: 0.08\n"
     ]
    }
   ],
   "source": [
    "conf = load_conf(\"forest_kernel\")\n",
    "m = Modes(conf)\n",
    "resolution = conf.n_dx\n",
    "phi_range = conf.phi_range\n",
    "b = 1 / (resolution)\n",
    "p = conf.phi_range / (conf.n_phi -1)\n",
    "v = (conf.max_v - conf.min_v) / (conf.nq_velocity - 1)\n",
    "s = 2 * conf.max_steer / (conf.nq_steer - 1)\n",
    "time = conf.kernel_time_step\n",
    "\n",
    "print(f\"Limits: b: {b}, p: {p}, v: {v}, s: {s}\")\n",
    "# These Errors are over two when used. This is the full block size, but theoretically the error will be half this.\n",
    "\n"
   ]
  },
  {
   "cell_type": "code",
   "execution_count": 17,
   "metadata": {},
   "outputs": [
    {
     "name": "stdout",
     "output_type": "stream",
     "text": [
      "bq: 17\n",
      "n_bstate: [-0.01365629  0.29780801 -0.04332517  2.35453794  0.15555556]\n"
     ]
    }
   ],
   "source": [
    "b_state = np.array([0, 0, 0, 3.0, -0.2])\n",
    "mode_action = np.array([0.2, 2])\n",
    "# action_id = m.get_mode_id(mode_action[1], mode_action[0])\n",
    "\n",
    "n_bstate = update_complex_state(b_state, mode_action, time)\n",
    "dx, dy, phi, vel, steer = n_bstate[0], n_bstate[1], n_bstate[2], n_bstate[3], n_bstate[4]\n",
    "bq = m.get_safe_mode_id(vel, steer)\n",
    "print(f\"bq: {bq}\")\n",
    "print(f\"n_bstate: {n_bstate}\")"
   ]
  },
  {
   "cell_type": "code",
   "execution_count": 18,
   "metadata": {},
   "outputs": [
    {
     "name": "stdout",
     "output_type": "stream",
     "text": [
      "0 --> State diff: [0.0125 0.0125 0.     0.     0.    ] \n",
      "1 --> State diff: [ 0.0125 -0.0125  0.      0.      0.    ] \n",
      "2 --> State diff: [-0.0125  0.0125  0.      0.      0.    ] \n",
      "3 --> State diff: [-0.0125 -0.0125  0.      0.      0.    ] \n"
     ]
    }
   ],
   "source": [
    "\n",
    "options = np.array([[b,b,0, 0, 0]\n",
    "            ,[b,-b,0, 0, 0]\n",
    "            ,[-b,b,0, 0, 0]\n",
    "            ,[-b,-b,0, 0, 0]])\n",
    "\n",
    "for i, opt in enumerate(options):\n",
    "    state = b_state + options[i]\n",
    "    new_state = update_complex_state(state, mode_action, time)\n",
    "\n",
    "    diff = new_state - n_bstate\n",
    "    print(f\"{i} --> State diff: {diff} \")\n"
   ]
  },
  {
   "cell_type": "code",
   "execution_count": 19,
   "metadata": {},
   "outputs": [
    {
     "name": "stdout",
     "output_type": "stream",
     "text": [
      "0 --> State diff: [0.02340343 0.00015356 0.078525   0.         0.        ] \n",
      "1 --> State diff: [-0.02331927 -0.00198896 -0.078525    0.          0.        ] \n"
     ]
    }
   ],
   "source": [
    "\n",
    "options = np.array([[0,0,p, 0, 0]\n",
    "               ,[0,0,-p, 0, 0]])\n",
    "\n",
    "   \n",
    "for i, opt in enumerate(options):\n",
    "    state = b_state + options[i]\n",
    "    new_state = update_complex_state(state, mode_action, time)\n",
    "\n",
    "    diff = new_state - n_bstate\n",
    "    print(f\"{i} --> State diff: {diff} \")\n"
   ]
  },
  {
   "cell_type": "code",
   "execution_count": 20,
   "metadata": {},
   "outputs": [
    {
     "name": "stdout",
     "output_type": "stream",
     "text": [
      "0 --> State diff: [0.00867175 0.04378812 0.07551832 0.32323983 0.03225118] \n",
      "bq: 17, Qid: 28 \n",
      "1 --> State diff: [ 0.01079224 -0.03409423  0.06937287 -0.16977026  0.03225118] \n",
      "bq: 17, Qid: 22 \n",
      "2 --> State diff: [-0.01723452  0.0420882  -0.09013878  0.32323983 -0.08      ] \n",
      "bq: 17, Qid: 27 \n",
      "3 --> State diff: [-0.00466302 -0.03486601 -0.05842408 -0.16977026 -0.08      ] \n",
      "bq: 17, Qid: 20 \n"
     ]
    }
   ],
   "source": [
    "# v = 0.2\n",
    "# s = 0.04\n",
    "# s = 0\n",
    "\n",
    "options = np.array([[0,0,0, v, s]\n",
    "        ,[0,0,0, -v, s]\n",
    "        ,[0,0,0, v, -s]\n",
    "        ,[0,0,0, -v, -s]])\n",
    "\n",
    "for i, opt in enumerate(options):\n",
    "    state = b_state + options[i]\n",
    "    new_state = update_complex_state(state, mode_action, time)\n",
    "\n",
    "    diff = new_state - n_bstate\n",
    "    print(f\"{i} --> State diff: {diff} \")\n",
    "    qid = m.get_mode_id(state[3], state[4])\n",
    "    print(f\"bq: {bq}, Qid: {qid} \")\n",
    "\n"
   ]
  },
  {
   "cell_type": "code",
   "execution_count": 21,
   "metadata": {},
   "outputs": [
    {
     "name": "stdout",
     "output_type": "stream",
     "text": [
      "0 --> State diff: [0.02243344 0.02787626 0.07525279 0.13709443 0.02112483] \n",
      "bq: 17, Qid: 27 \n"
     ]
    }
   ],
   "source": [
    "\n",
    "options = np.array([[b/2, b/2, p/2, v/2, s/2]])\n",
    "\n",
    "for i, opt in enumerate(options):\n",
    "    state = b_state + options[i]\n",
    "    new_state = update_complex_state(state, mode_action, time)\n",
    "\n",
    "    diff = new_state - n_bstate\n",
    "    print(f\"{i} --> State diff: {diff} \")\n",
    "    qid = m.get_mode_id(state[3], state[4])\n",
    "    print(f\"bq: {bq}, Qid: {qid} \")\n"
   ]
  },
  {
   "cell_type": "code",
   "execution_count": 24,
   "metadata": {},
   "outputs": [
    {
     "name": "stdout",
     "output_type": "stream",
     "text": [
      "0 --> State diff: [0.04798339 0.0556265  0.15404332 0.32323983 0.03225118] \n",
      "bq: 17, Qid: 28 \n",
      "1 --> State diff: [ 0.04398791 -0.0221822   0.14789787 -0.16977026  0.03225118] \n",
      "bq: 17, Qid: 22 \n",
      "2 --> State diff: [ 0.0220236   0.05596402 -0.01161378  0.32323983 -0.08      ] \n",
      "bq: 17, Qid: 27 \n",
      "3 --> State diff: [ 0.02851974 -0.02173922  0.02010092 -0.16977026 -0.08      ] \n",
      "bq: 17, Qid: 20 \n",
      "4 --> State diff: [-0.00560917  0.05484448 -0.00300668  0.32323983  0.03225118] \n",
      "bq: 17, Qid: 28 \n",
      "5 --> State diff: [ 0.00261422 -0.02263154 -0.00915213 -0.16977026  0.03225118] \n",
      "bq: 17, Qid: 22 \n",
      "6 --> State diff: [-0.03130226  0.0511176  -0.16866378  0.32323983 -0.08      ] \n",
      "bq: 17, Qid: 27 \n",
      "7 --> State diff: [-0.01273288 -0.02461331 -0.13694908 -0.16977026 -0.08      ] \n",
      "bq: 17, Qid: 20 \n",
      "8 --> State diff: [0.04798339 0.0306265  0.15404332 0.32323983 0.03225118] \n",
      "bq: 17, Qid: 28 \n",
      "9 --> State diff: [ 0.04398791 -0.0471822   0.14789787 -0.16977026  0.03225118] \n",
      "bq: 17, Qid: 22 \n",
      "10 --> State diff: [ 0.0220236   0.03096402 -0.01161378  0.32323983 -0.08      ] \n",
      "bq: 17, Qid: 27 \n",
      "11 --> State diff: [ 0.02851974 -0.04673922  0.02010092 -0.16977026 -0.08      ] \n",
      "bq: 17, Qid: 20 \n",
      "12 --> State diff: [-0.00560917  0.02984448 -0.00300668  0.32323983  0.03225118] \n",
      "bq: 17, Qid: 28 \n",
      "13 --> State diff: [ 0.00261422 -0.04763154 -0.00915213 -0.16977026  0.03225118] \n",
      "bq: 17, Qid: 22 \n",
      "14 --> State diff: [-0.03130226  0.0261176  -0.16866378  0.32323983 -0.08      ] \n",
      "bq: 17, Qid: 27 \n",
      "15 --> State diff: [-0.01273288 -0.04961331 -0.13694908 -0.16977026 -0.08      ] \n",
      "bq: 17, Qid: 20 \n",
      "16 --> State diff: [0.02298339 0.0556265  0.15404332 0.32323983 0.03225118] \n",
      "bq: 17, Qid: 28 \n",
      "17 --> State diff: [ 0.01898791 -0.0221822   0.14789787 -0.16977026  0.03225118] \n",
      "bq: 17, Qid: 22 \n",
      "18 --> State diff: [-0.0029764   0.05596402 -0.01161378  0.32323983 -0.08      ] \n",
      "bq: 17, Qid: 27 \n",
      "19 --> State diff: [ 0.00351974 -0.02173922  0.02010092 -0.16977026 -0.08      ] \n",
      "bq: 17, Qid: 20 \n",
      "20 --> State diff: [-0.03060917  0.05484448 -0.00300668  0.32323983  0.03225118] \n",
      "bq: 17, Qid: 28 \n",
      "21 --> State diff: [-0.02238578 -0.02263154 -0.00915213 -0.16977026  0.03225118] \n",
      "bq: 17, Qid: 22 \n",
      "22 --> State diff: [-0.05630226  0.0511176  -0.16866378  0.32323983 -0.08      ] \n",
      "bq: 17, Qid: 27 \n",
      "23 --> State diff: [-0.03773288 -0.02461331 -0.13694908 -0.16977026 -0.08      ] \n",
      "bq: 17, Qid: 20 \n",
      "24 --> State diff: [0.02298339 0.0306265  0.15404332 0.32323983 0.03225118] \n",
      "bq: 17, Qid: 28 \n",
      "25 --> State diff: [ 0.01898791 -0.0471822   0.14789787 -0.16977026  0.03225118] \n",
      "bq: 17, Qid: 22 \n",
      "26 --> State diff: [-0.0029764   0.03096402 -0.01161378  0.32323983 -0.08      ] \n",
      "bq: 17, Qid: 27 \n",
      "27 --> State diff: [ 0.00351974 -0.04673922  0.02010092 -0.16977026 -0.08      ] \n",
      "bq: 17, Qid: 20 \n",
      "28 --> State diff: [-0.03060917  0.02984448 -0.00300668  0.32323983  0.03225118] \n",
      "bq: 17, Qid: 28 \n",
      "29 --> State diff: [-0.02238578 -0.04763154 -0.00915213 -0.16977026  0.03225118] \n",
      "bq: 17, Qid: 22 \n",
      "30 --> State diff: [-0.05630226  0.0261176  -0.16866378  0.32323983 -0.08      ] \n",
      "bq: 17, Qid: 27 \n",
      "31 --> State diff: [-0.03773288 -0.04961331 -0.13694908 -0.16977026 -0.08      ] \n",
      "bq: 17, Qid: 20 \n"
     ]
    }
   ],
   "source": [
    "# All options possible\n",
    "\n",
    "opt1 = np.array([[b,b,0, 0, 0]\n",
    "        ,[b,-b,0, 0, 0]\n",
    "        ,[-b,b,0, 0, 0]\n",
    "        ,[-b,-b,0, 0, 0]])\n",
    "\n",
    "opt2 = np.array([[0,0,p, 0, 0]\n",
    "               ,[0,0,-p, 0, 0]])\n",
    "\n",
    "opt3 = np.array([[0,0,0, v, s]\n",
    "        ,[0,0,0, -v, s]\n",
    "        ,[0,0,0, v, -s]\n",
    "        ,[0,0,0, -v, -s]])\n",
    "\n",
    "file = open('ErrorLog.txt', 'w')\n",
    "\n",
    "block_state = np.array([b, b, p, v, s])\n",
    "\n",
    "i = 0\n",
    "for o1 in opt1:\n",
    "        for o2 in opt2:\n",
    "                for o3 in opt3:\n",
    "                        state = b_state + o1 + o2 + o3\n",
    "                        new_state = update_complex_state(state, mode_action, time)\n",
    "                \n",
    "                        diff = new_state - n_bstate\n",
    "                        print(f\"{i} --> State diff: {diff} \")\n",
    "                        file.write(f\"{i} --> State diff: {diff} -->  bq: {bq}, Qid: {qid}\\n\")\n",
    "\n",
    "                        file.write(f\"{diff/block_state}\\n\")\n",
    "\n",
    "                        qid = m.get_mode_id(state[3], state[4])\n",
    "                        print(f\"bq: {bq}, Qid: {qid} \")\n",
    "                        i += 1\n",
    "\n",
    "file.close()"
   ]
  },
  {
   "cell_type": "markdown",
   "metadata": {},
   "source": []
  },
  {
   "cell_type": "markdown",
   "metadata": {},
   "source": [
    "The results show that using a lot more modes (37) leads to significantly better results.\n",
    "\n",
    "There is still an error on the mode that is selected. But I think the first three are taken into account"
   ]
  }
 ],
 "metadata": {
  "interpreter": {
   "hash": "31f2aee4e71d21fbe5cf8b01ff0e069b9275f58929596ceb00d14d90e3e16cd6"
  },
  "kernelspec": {
   "display_name": "Python 3.8.10 64-bit",
   "language": "python",
   "name": "python3"
  },
  "language_info": {
   "codemirror_mode": {
    "name": "ipython",
    "version": 3
   },
   "file_extension": ".py",
   "mimetype": "text/x-python",
   "name": "python",
   "nbconvert_exporter": "python",
   "pygments_lexer": "ipython3",
   "version": "3.8.10"
  },
  "orig_nbformat": 4
 },
 "nbformat": 4,
 "nbformat_minor": 2
}
